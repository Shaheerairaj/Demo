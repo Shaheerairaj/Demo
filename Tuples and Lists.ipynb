{
    "cells": [
        {
            "metadata": {
                "collapsed": true
            },
            "cell_type": "markdown",
            "source": "# Tuples"
        },
        {
            "metadata": {},
            "cell_type": "code",
            "source": "a=('disco',10,1.2)\ntuple1=a\ntype(a)",
            "execution_count": 4,
            "outputs": [
                {
                    "output_type": "execute_result",
                    "execution_count": 4,
                    "data": {
                        "text/plain": "tuple"
                    },
                    "metadata": {}
                }
            ]
        },
        {
            "metadata": {},
            "cell_type": "code",
            "source": "print(tuple1[0][2])\nprint(tuple1[-2])",
            "execution_count": 8,
            "outputs": [
                {
                    "output_type": "stream",
                    "text": "s\n10\n",
                    "name": "stdout"
                }
            ]
        },
        {
            "metadata": {},
            "cell_type": "code",
            "source": "tuple2 = tuple1 + ('hard rock',15)\nprint(tuple2)\nlen(tuple2)\nlen(tuple1)",
            "execution_count": 13,
            "outputs": [
                {
                    "output_type": "stream",
                    "text": "('disco', 10, 1.2, 'hard rock', 15)\n",
                    "name": "stdout"
                },
                {
                    "output_type": "execute_result",
                    "execution_count": 13,
                    "data": {
                        "text/plain": "3"
                    },
                    "metadata": {}
                }
            ]
        },
        {
            "metadata": {},
            "cell_type": "code",
            "source": "tuple2[3:5]",
            "execution_count": 15,
            "outputs": [
                {
                    "output_type": "execute_result",
                    "execution_count": 15,
                    "data": {
                        "text/plain": "('hard rock', 15)"
                    },
                    "metadata": {}
                }
            ]
        },
        {
            "metadata": {},
            "cell_type": "code",
            "source": "tuple2Sorted = sorted(tuple2)",
            "execution_count": 16,
            "outputs": [
                {
                    "output_type": "error",
                    "ename": "TypeError",
                    "evalue": "'<' not supported between instances of 'int' and 'str'",
                    "traceback": [
                        "\u001b[0;31m---------------------------------------------------------------------------\u001b[0m",
                        "\u001b[0;31mTypeError\u001b[0m                                 Traceback (most recent call last)",
                        "\u001b[0;32m<ipython-input-16-3f85918bbe93>\u001b[0m in \u001b[0;36m<module>\u001b[0;34m\u001b[0m\n\u001b[0;32m----> 1\u001b[0;31m \u001b[0mtuple2Sorted\u001b[0m \u001b[0;34m=\u001b[0m \u001b[0msorted\u001b[0m\u001b[0;34m(\u001b[0m\u001b[0mtuple2\u001b[0m\u001b[0;34m)\u001b[0m\u001b[0;34m\u001b[0m\u001b[0;34m\u001b[0m\u001b[0m\n\u001b[0m",
                        "\u001b[0;31mTypeError\u001b[0m: '<' not supported between instances of 'int' and 'str'"
                    ]
                }
            ]
        },
        {
            "metadata": {},
            "cell_type": "code",
            "source": "tuple2 = (10,58,69,45,5,7,6,1,2,0)\ntuple2sorted = sorted(tuple2)\nprint(tuple2sorted)",
            "execution_count": 18,
            "outputs": [
                {
                    "output_type": "stream",
                    "text": "[0, 1, 2, 5, 6, 7, 10, 45, 58, 69]\n",
                    "name": "stdout"
                }
            ]
        },
        {
            "metadata": {},
            "cell_type": "code",
            "source": "print('Element 5 of tuple2 is: ', tuple2sorted[5])",
            "execution_count": 25,
            "outputs": [
                {
                    "output_type": "stream",
                    "text": "Element 5 of tuple2 is:  7\n",
                    "name": "stdout"
                }
            ]
        },
        {
            "metadata": {},
            "cell_type": "markdown",
            "source": "# Lists"
        },
        {
            "metadata": {},
            "cell_type": "code",
            "source": "L = ['Michael Jackson', 10, 1.2]",
            "execution_count": 26,
            "outputs": []
        },
        {
            "metadata": {},
            "cell_type": "code",
            "source": "print('The last element in the list labelled L is: \\n', L[-1])",
            "execution_count": 27,
            "outputs": [
                {
                    "output_type": "stream",
                    "text": "The last element in the list labelled L is: \n 1.2\n",
                    "name": "stdout"
                }
            ]
        },
        {
            "metadata": {},
            "cell_type": "code",
            "source": "L.extend(['pop', 2])\nprint(L)",
            "execution_count": 28,
            "outputs": [
                {
                    "output_type": "stream",
                    "text": "['Michael Jackson', 10, 1.2, 'pop', 2]\n",
                    "name": "stdout"
                }
            ]
        },
        {
            "metadata": {},
            "cell_type": "code",
            "source": "L.append([57,56,8,2])\nprint(L)",
            "execution_count": 29,
            "outputs": [
                {
                    "output_type": "stream",
                    "text": "['Michael Jackson', 10, 1.2, 'pop', 2, [57, 56, 8, 2]]\n",
                    "name": "stdout"
                }
            ]
        },
        {
            "metadata": {},
            "cell_type": "code",
            "source": "del(L[-1])\nprint(L)",
            "execution_count": 30,
            "outputs": [
                {
                    "output_type": "stream",
                    "text": "['Michael Jackson', 10, 1.2, 'pop', 2]\n",
                    "name": "stdout"
                }
            ]
        },
        {
            "metadata": {},
            "cell_type": "code",
            "source": "'hard rock'.split()",
            "execution_count": 31,
            "outputs": [
                {
                    "output_type": "execute_result",
                    "execution_count": 31,
                    "data": {
                        "text/plain": "['hard', 'rock']"
                    },
                    "metadata": {}
                }
            ]
        },
        {
            "metadata": {},
            "cell_type": "code",
            "source": "'hard'.split()",
            "execution_count": 32,
            "outputs": [
                {
                    "output_type": "execute_result",
                    "execution_count": 32,
                    "data": {
                        "text/plain": "['hard']"
                    },
                    "metadata": {}
                }
            ]
        },
        {
            "metadata": {},
            "cell_type": "code",
            "source": "A = [1,2,3,4,5,6,7]\nB = A[:]\nA = [1,2,8,6,10,11,12]\nprint('A is: ', A)\nprint('B is: ', B)",
            "execution_count": 34,
            "outputs": [
                {
                    "output_type": "stream",
                    "text": "A is:  [1, 2, 8, 6, 10, 11, 12]\nB is:  [1, 2, 3, 4, 5, 6, 7]\n",
                    "name": "stdout"
                }
            ]
        },
        {
            "metadata": {},
            "cell_type": "code",
            "source": "",
            "execution_count": null,
            "outputs": []
        }
    ],
    "metadata": {
        "kernelspec": {
            "name": "python3",
            "display_name": "Python 3.6",
            "language": "python"
        },
        "language_info": {
            "name": "python",
            "version": "3.6.9",
            "mimetype": "text/x-python",
            "codemirror_mode": {
                "name": "ipython",
                "version": 3
            },
            "pygments_lexer": "ipython3",
            "nbconvert_exporter": "python",
            "file_extension": ".py"
        }
    },
    "nbformat": 4,
    "nbformat_minor": 1
}