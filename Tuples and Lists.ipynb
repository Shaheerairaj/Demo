{
    "cells": [
        {
            "metadata": {
                "collapsed": true
            },
            "cell_type": "markdown",
            "source": "# Tuples and Lists"
        },
        {
            "metadata": {},
            "cell_type": "code",
            "source": "a=('disco',10,1.2)\ntuple1=a\ntype(a)",
            "execution_count": 4,
            "outputs": [
                {
                    "output_type": "execute_result",
                    "execution_count": 4,
                    "data": {
                        "text/plain": "tuple"
                    },
                    "metadata": {}
                }
            ]
        },
        {
            "metadata": {},
            "cell_type": "code",
            "source": "print(tuple1[0][2])\nprint(tuple1[-2])",
            "execution_count": 8,
            "outputs": [
                {
                    "output_type": "stream",
                    "text": "s\n10\n",
                    "name": "stdout"
                }
            ]
        },
        {
            "metadata": {},
            "cell_type": "code",
            "source": "tuple2 = tuple1 + ('hard rock',15)\nprint(tuple2)\nlen(tuple2)\nlen(tuple1)",
            "execution_count": 13,
            "outputs": [
                {
                    "output_type": "stream",
                    "text": "('disco', 10, 1.2, 'hard rock', 15)\n",
                    "name": "stdout"
                },
                {
                    "output_type": "execute_result",
                    "execution_count": 13,
                    "data": {
                        "text/plain": "3"
                    },
                    "metadata": {}
                }
            ]
        },
        {
            "metadata": {},
            "cell_type": "code",
            "source": "tuple2[3:5]",
            "execution_count": 15,
            "outputs": [
                {
                    "output_type": "execute_result",
                    "execution_count": 15,
                    "data": {
                        "text/plain": "('hard rock', 15)"
                    },
                    "metadata": {}
                }
            ]
        },
        {
            "metadata": {},
            "cell_type": "code",
            "source": "tuple2Sorted = sorted(tuple2)",
            "execution_count": 16,
            "outputs": [
                {
                    "output_type": "error",
                    "ename": "TypeError",
                    "evalue": "'<' not supported between instances of 'int' and 'str'",
                    "traceback": [
                        "\u001b[0;31m---------------------------------------------------------------------------\u001b[0m",
                        "\u001b[0;31mTypeError\u001b[0m                                 Traceback (most recent call last)",
                        "\u001b[0;32m<ipython-input-16-3f85918bbe93>\u001b[0m in \u001b[0;36m<module>\u001b[0;34m\u001b[0m\n\u001b[0;32m----> 1\u001b[0;31m \u001b[0mtuple2Sorted\u001b[0m \u001b[0;34m=\u001b[0m \u001b[0msorted\u001b[0m\u001b[0;34m(\u001b[0m\u001b[0mtuple2\u001b[0m\u001b[0;34m)\u001b[0m\u001b[0;34m\u001b[0m\u001b[0;34m\u001b[0m\u001b[0m\n\u001b[0m",
                        "\u001b[0;31mTypeError\u001b[0m: '<' not supported between instances of 'int' and 'str'"
                    ]
                }
            ]
        },
        {
            "metadata": {},
            "cell_type": "code",
            "source": "tuple2 = (10,58,69,45,5,7,6,1,2,0)\ntuple2sorted = sorted(tuple2)\nprint(tuple2sorted)",
            "execution_count": 18,
            "outputs": [
                {
                    "output_type": "stream",
                    "text": "[0, 1, 2, 5, 6, 7, 10, 45, 58, 69]\n",
                    "name": "stdout"
                }
            ]
        },
        {
            "metadata": {},
            "cell_type": "code",
            "source": "print('Element 5 of tuple2 is: ', tuple2sorted[5])",
            "execution_count": 25,
            "outputs": [
                {
                    "output_type": "stream",
                    "text": "Element 5 of tuple2 is:  7\n",
                    "name": "stdout"
                }
            ]
        },
        {
            "metadata": {},
            "cell_type": "code",
            "source": "",
            "execution_count": null,
            "outputs": []
        }
    ],
    "metadata": {
        "kernelspec": {
            "name": "python3",
            "display_name": "Python 3.6",
            "language": "python"
        },
        "language_info": {
            "name": "python",
            "version": "3.6.9",
            "mimetype": "text/x-python",
            "codemirror_mode": {
                "name": "ipython",
                "version": 3
            },
            "pygments_lexer": "ipython3",
            "nbconvert_exporter": "python",
            "file_extension": ".py"
        }
    },
    "nbformat": 4,
    "nbformat_minor": 1
}