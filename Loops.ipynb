{
    "cells": [
        {
            "metadata": {
                "collapsed": true
            },
            "cell_type": "markdown",
            "source": "# Range and Loops"
        },
        {
            "metadata": {},
            "cell_type": "markdown",
            "source": "# For Loops"
        },
        {
            "metadata": {},
            "cell_type": "code",
            "source": "range(3)",
            "execution_count": 25,
            "outputs": [
                {
                    "output_type": "execute_result",
                    "execution_count": 25,
                    "data": {
                        "text/plain": "range(0, 3)"
                    },
                    "metadata": {}
                }
            ]
        },
        {
            "metadata": {},
            "cell_type": "code",
            "source": "dates = [1982,1980,1973]\nN = 3\nprint(N)\n\nfor i in range(N):\n    print(dates[i])",
            "execution_count": 42,
            "outputs": [
                {
                    "output_type": "stream",
                    "text": "3\n1982\n1980\n1973\n",
                    "name": "stdout"
                }
            ]
        },
        {
            "metadata": {},
            "cell_type": "code",
            "source": "for i in range(5):\n    print(i)",
            "execution_count": 43,
            "outputs": [
                {
                    "output_type": "stream",
                    "text": "0\n1\n2\n3\n4\n",
                    "name": "stdout"
                }
            ]
        },
        {
            "metadata": {},
            "cell_type": "code",
            "source": "for year in dates:\n    print(year)",
            "execution_count": 44,
            "outputs": [
                {
                    "output_type": "stream",
                    "text": "1982\n1980\n1973\n",
                    "name": "stdout"
                }
            ]
        },
        {
            "metadata": {},
            "cell_type": "code",
            "source": "squares = ['red', 'yellow', 'green', 'purple', 'blue']\nN = len (squares)\nprint(N)\n\nfor i in range(3):\n    print('Before square', i, 'is', squares[i])\n    squares[i]='weight'\n    print('After square', i, 'is', squares[i])",
            "execution_count": 48,
            "outputs": [
                {
                    "output_type": "stream",
                    "text": "5\nBefore square 0 is red\nAfter square 0 is weight\nBefore square 1 is yellow\nAfter square 1 is weight\nBefore square 2 is green\nAfter square 2 is weight\n",
                    "name": "stdout"
                }
            ]
        },
        {
            "metadata": {},
            "cell_type": "code",
            "source": "squares=['red', 'yellow', 'green', 'purple', 'blue']\nN= len(squares)\n\nfor i in range(N):\n    print(i, 'is', squares[i])",
            "execution_count": 53,
            "outputs": [
                {
                    "output_type": "stream",
                    "text": "0 is red\n1 is yellow\n2 is green\n3 is purple\n4 is blue\n",
                    "name": "stdout"
                }
            ]
        },
        {
            "metadata": {},
            "cell_type": "markdown",
            "source": "# While Loops"
        },
        {
            "metadata": {},
            "cell_type": "code",
            "source": "dates = [1982, 1980, 1973, 2000]\n\ni = 0\nyear = 0\n\nwhile (year!=1973):\n    year = dates[i]\n    i = i + 1\n    print('It took', i, 'repetitions to get', year)",
            "execution_count": 55,
            "outputs": [
                {
                    "output_type": "stream",
                    "text": "It took 1 repetitions to get 1982\nIt took 2 repetitions to get 1980\nIt took 3 repetitions to get 1973\n",
                    "name": "stdout"
                }
            ]
        },
        {
            "metadata": {},
            "cell_type": "code",
            "source": "",
            "execution_count": null,
            "outputs": []
        }
    ],
    "metadata": {
        "kernelspec": {
            "name": "python3",
            "display_name": "Python 3.6",
            "language": "python"
        },
        "language_info": {
            "name": "python",
            "version": "3.6.9",
            "mimetype": "text/x-python",
            "codemirror_mode": {
                "name": "ipython",
                "version": 3
            },
            "pygments_lexer": "ipython3",
            "nbconvert_exporter": "python",
            "file_extension": ".py"
        }
    },
    "nbformat": 4,
    "nbformat_minor": 1
}